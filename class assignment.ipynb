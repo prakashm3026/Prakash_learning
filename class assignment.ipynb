{
 "cells": [
  {
   "cell_type": "code",
   "execution_count": 22,
   "metadata": {},
   "outputs": [],
   "source": [
    "#Class to display the list items\n",
    "class subfieldsinAI():\n",
    "    def subfields():\n",
    "        AI=[\"Machine Learning\",\"Neural Networks\",\"Vision\",\"Robotics\",\"Speech Processing\",\"Natural Language Processing\"]\n",
    "        print(\"Sub fields in Ai are: \")\n",
    "        for x in AI:\n",
    "            print (x) #method 1\n",
    "        print(\"+++++++++++++++++++++++++++++++\")\n",
    "        print(\"Sub fields in Ai are: \")\n",
    "        [print(i) for i in AI] #method 2"
   ]
  },
  {
   "cell_type": "code",
   "execution_count": 23,
   "metadata": {},
   "outputs": [
    {
     "name": "stdout",
     "output_type": "stream",
     "text": [
      "Sub fields in Ai are: \n",
      "Machine Learning\n",
      "Neural Networks\n",
      "Vision\n",
      "Robotics\n",
      "Speech Processing\n",
      "Natural Language Processing\n",
      "+++++++++++++++++++++++++++++++\n",
      "Sub fields in Ai are: \n",
      "Machine Learning\n",
      "Neural Networks\n",
      "Vision\n",
      "Robotics\n",
      "Speech Processing\n",
      "Natural Language Processing\n"
     ]
    }
   ],
   "source": [
    "subfieldsinAI.subfields()"
   ]
  },
  {
   "cell_type": "code",
   "execution_count": 28,
   "metadata": {},
   "outputs": [],
   "source": [
    "#Class to find even or odd\n",
    "class oddeven():\n",
    "    def evenodd1():\n",
    "        x=int(input(\"enter the number: \"))\n",
    "        if (x%2)==0:\n",
    "            print(x,\"Number is even\")\n",
    "            mesg=0\n",
    "        else:\n",
    "            print(x,\"Number is odd\")\n",
    "            mesg=1\n",
    "        #return mesg"
   ]
  },
  {
   "cell_type": "code",
   "execution_count": 29,
   "metadata": {},
   "outputs": [
    {
     "name": "stdout",
     "output_type": "stream",
     "text": [
      "enter the number: 3\n",
      "3 Number is odd\n"
     ]
    }
   ],
   "source": [
    "oddeven.evenodd1()"
   ]
  },
  {
   "cell_type": "code",
   "execution_count": 30,
   "metadata": {},
   "outputs": [],
   "source": [
    "#Class to find the eligibility for marriage\n",
    "class eligible():\n",
    "    def eligible():\n",
    "        gen=input(\"Enter the gender :\")\n",
    "        age=int(input(\"Enter the age :\"))\n",
    "        if (gen.upper()==\"M\") & (age > 21):\n",
    "            print(\"you are eligible\")\n",
    "        elif (gen.upper()==\"F\") & (age >18):\n",
    "            print(\"You are eligible\")\n",
    "        else:\n",
    "            print(\"You are not eligible\")"
   ]
  },
  {
   "cell_type": "code",
   "execution_count": 32,
   "metadata": {},
   "outputs": [
    {
     "name": "stdout",
     "output_type": "stream",
     "text": [
      "Enter the gender :f\n",
      "Enter the age :23\n",
      "You are eligible\n"
     ]
    }
   ],
   "source": [
    "eligible.eligible()"
   ]
  },
  {
   "cell_type": "code",
   "execution_count": 33,
   "metadata": {},
   "outputs": [],
   "source": [
    "#class for finding sum and percentage of marks\n",
    "class percentage():\n",
    "    def percentage():\n",
    "        m1,m2,m3,m4,m5=input(\"Enter the marks :\").split()\n",
    "        print (m1,m2,m3,m4,m5)\n",
    "        print(\"Subject1=\",m1)\n",
    "        print(\"Subject2=\",m2)\n",
    "        print(\"Subject3=\",m3)\n",
    "        print(\"Subject4=\",m5)\n",
    "        print(\"Subject5=\",m5)\n",
    "        sum=float(m1)+float(m2)+float(m3)+float(m4)+float(m5)\n",
    "        percent=sum*100/500\n",
    "        print(\"Total :\",sum)\n",
    "        print(\"Percentage :\",percent)"
   ]
  },
  {
   "cell_type": "code",
   "execution_count": 34,
   "metadata": {},
   "outputs": [
    {
     "name": "stdout",
     "output_type": "stream",
     "text": [
      "Enter the marks :1 33 45 44 67\n",
      "1 33 45 44 67\n",
      "Subject1= 1\n",
      "Subject2= 33\n",
      "Subject3= 45\n",
      "Subject4= 67\n",
      "Subject5= 67\n",
      "Total : 190.0\n",
      "Percentage : 38.0\n"
     ]
    }
   ],
   "source": [
    "percentage.percentage()"
   ]
  },
  {
   "cell_type": "code",
   "execution_count": 35,
   "metadata": {},
   "outputs": [],
   "source": [
    "#Class to find the area and perimeter of a triangle\n",
    "class triangle():\n",
    "    def triangle():\n",
    "        h1=int(input(\"Enter the Hight1: \"))\n",
    "        h2=int(input(\"Enter the Hight2: \"))\n",
    "        b1=int(input(\"Enter the Breadth1: \"))\n",
    "        print(\"Height=\",h1)\n",
    "        print(\"Breadth=\",b1)\n",
    "        print(\"Area formula: (Height*Breadth)/2\")\n",
    "        area=(float(h1)*float(b1))/2\n",
    "        print(\"Area of the triangle is: \",area)\n",
    "        print(\"Height=\",h1)\n",
    "        print(\"Height2\",h2)\n",
    "        print(\"Breadth=\",b1)\n",
    "        print(\"Perimeter formula :Height1+height2+breadth\")\n",
    "        perimeter=h1+h2+b1\n",
    "        print(\"Perimeter of the triangle is:\",perimeter)\n"
   ]
  },
  {
   "cell_type": "code",
   "execution_count": 36,
   "metadata": {},
   "outputs": [
    {
     "name": "stdout",
     "output_type": "stream",
     "text": [
      "Enter the Hight1: 2\n",
      "Enter the Hight2: 3\n",
      "Enter the Breadth1: 4\n",
      "Height= 2\n",
      "Breadth= 4\n",
      "Area formula: (Height*Breadth)/2\n",
      "Area of the triangle is:  4.0\n",
      "Height= 2\n",
      "Height2 3\n",
      "Breadth= 4\n",
      "Perimeter formula :Height1+height2+breadth\n",
      "Perimeter of the triangle is: 9\n"
     ]
    }
   ],
   "source": [
    "triangle.triangle()"
   ]
  },
  {
   "cell_type": "code",
   "execution_count": null,
   "metadata": {},
   "outputs": [],
   "source": []
  }
 ],
 "metadata": {
  "kernelspec": {
   "display_name": "Python 3",
   "language": "python",
   "name": "python3"
  },
  "language_info": {
   "codemirror_mode": {
    "name": "ipython",
    "version": 3
   },
   "file_extension": ".py",
   "mimetype": "text/x-python",
   "name": "python",
   "nbconvert_exporter": "python",
   "pygments_lexer": "ipython3",
   "version": "3.7.4"
  }
 },
 "nbformat": 4,
 "nbformat_minor": 2
}
