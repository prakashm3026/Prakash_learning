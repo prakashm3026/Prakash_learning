{
 "cells": [
  {
   "cell_type": "code",
   "execution_count": 3,
   "metadata": {},
   "outputs": [
    {
     "name": "stdout",
     "output_type": "stream",
     "text": [
      "0\n",
      "1\n",
      "2\n",
      "3\n",
      "4\n",
      "5\n",
      "6\n",
      "7\n",
      "8\n",
      "9\n",
      "10\n",
      "11\n",
      "12\n",
      "13\n",
      "14\n",
      "15\n",
      "16\n",
      "17\n",
      "18\n",
      "19\n"
     ]
    }
   ],
   "source": [
    "#print range\n",
    "for temp in range(0,20):\n",
    "    print(temp)"
   ]
  },
  {
   "cell_type": "code",
   "execution_count": 51,
   "metadata": {},
   "outputs": [
    {
     "name": "stdout",
     "output_type": "stream",
     "text": [
      "0\n",
      "2\n",
      "4\n",
      "6\n",
      "8\n",
      "10\n",
      "12\n",
      "14\n",
      "16\n",
      "18\n"
     ]
    }
   ],
   "source": [
    "#print range with incremental 2\n",
    "for temp1 in range(0,20,2):\n",
    "    print(temp1)"
   ]
  },
  {
   "cell_type": "code",
   "execution_count": 6,
   "metadata": {},
   "outputs": [
    {
     "name": "stdout",
     "output_type": "stream",
     "text": [
      "10 11 12 13 14 15 16 17 18 19\n"
     ]
    }
   ],
   "source": [
    "#print range horizontally\n",
    "print(*range(10,20))"
   ]
  },
  {
   "cell_type": "code",
   "execution_count": 9,
   "metadata": {},
   "outputs": [
    {
     "name": "stdout",
     "output_type": "stream",
     "text": [
      "[10, 20, 14, 55, 43, 87, 76]\n",
      "Number of items in the list is\n",
      "7\n"
     ]
    }
   ],
   "source": [
    "#print total number of items in the list\n",
    "list=[10,20,14,55,43,87,76]\n",
    "print(list)\n",
    "print(\"Number of items in the list is\")\n",
    "print(len(list))"
   ]
  },
  {
   "cell_type": "code",
   "execution_count": 50,
   "metadata": {},
   "outputs": [
    {
     "name": "stdout",
     "output_type": "stream",
     "text": [
      "17\n"
     ]
    }
   ],
   "source": [
    "#print lendth of string\n",
    "txt = \"Mi casa, su casa.\"\n",
    "\n",
    "print(len(txt))"
   ]
  },
  {
   "cell_type": "code",
   "execution_count": null,
   "metadata": {},
   "outputs": [],
   "source": []
  },
  {
   "cell_type": "code",
   "execution_count": 31,
   "metadata": {},
   "outputs": [
    {
     "name": "stdout",
     "output_type": "stream",
     "text": [
      "Enter your nameprakash\n",
      "38\n",
      "-your name-\n",
      "your age-\n",
      "your profession\n"
     ]
    }
   ],
   "source": [
    "#read input and print\n",
    "name=input(\"Enter your name\")\n",
    "age=int(input())\n",
    "print(\"-your name-\")\n",
    "print(\"your age-\")\n",
    "print(\"your profession\")"
   ]
  },
  {
   "cell_type": "code",
   "execution_count": null,
   "metadata": {},
   "outputs": [],
   "source": []
  },
  {
   "cell_type": "code",
   "execution_count": 27,
   "metadata": {},
   "outputs": [
    {
     "name": "stdout",
     "output_type": "stream",
     "text": [
      "A\n",
      "R\n",
      "T\n",
      "I\n",
      "F\n",
      "I\n",
      "C\n",
      "I\n",
      "A\n",
      "L\n",
      " \n",
      "I\n",
      "N\n",
      "T\n",
      "E\n",
      "L\n",
      "I\n",
      "G\n",
      "E\n",
      "N\n",
      "C\n",
      "E\n"
     ]
    }
   ],
   "source": [
    "#printing sting vertically\n",
    "def vertical_print(string):\n",
    "    for char in string:\n",
    "        print(char)\n",
    "\n",
    "string = \"ARTIFICIAL INTELIGENCE\"\n",
    "vertical_print(string)"
   ]
  },
  {
   "cell_type": "code",
   "execution_count": 29,
   "metadata": {},
   "outputs": [
    {
     "name": "stdout",
     "output_type": "stream",
     "text": [
      "Original word is ARTIFICIAL INTELIGENCE\n",
      "A\n",
      "R\n",
      "T\n",
      "I\n",
      "F\n",
      "I\n",
      "C\n",
      "I\n",
      "A\n",
      "L\n",
      " \n",
      "I\n",
      "N\n",
      "T\n",
      "E\n",
      "L\n",
      "I\n",
      "G\n",
      "E\n",
      "N\n",
      "C\n",
      "E\n"
     ]
    }
   ],
   "source": [
    "#print stint vertically method2\n",
    "test=\"ARTIFICIAL INTELIGENCE\"\n",
    "print(\"Original word is\", test)\n",
    "for y in test:\n",
    "    print(y)"
   ]
  },
  {
   "cell_type": "code",
   "execution_count": 48,
   "metadata": {},
   "outputs": [
    {
     "name": "stdout",
     "output_type": "stream",
     "text": [
      "(1, 'welcome', 2, 'hope')\n"
     ]
    }
   ],
   "source": [
    "#print tuple\n",
    "tuple1= (1,\"welcome\",2,\"hope\")\n",
    "print(tuple1)"
   ]
  },
  {
   "cell_type": "code",
   "execution_count": 36,
   "metadata": {},
   "outputs": [
    {
     "name": "stdout",
     "output_type": "stream",
     "text": [
      "((0, 1, 2, 3), 'python', 'Hope')\n"
     ]
    }
   ],
   "source": [
    "#print nested tuple\n",
    "tuple2=(0,1,2,3)\n",
    "tup3=(tuple2,\"python\",\"Hope\")\n",
    "print(tup3)"
   ]
  },
  {
   "cell_type": "code",
   "execution_count": 43,
   "metadata": {},
   "outputs": [
    {
     "name": "stdout",
     "output_type": "stream",
     "text": [
      "(20, 10, 16, 99, 55)\n",
      "20 is even\n",
      "10 is even\n",
      "16 is even\n",
      "99 is odd\n",
      "55 is odd\n"
     ]
    }
   ],
   "source": [
    "#print odd or even\n",
    "tup4=(20,10,16,99,55)\n",
    "print(tup4)\n",
    "for tmp in (tup4):\n",
    "    if (tmp%2)==0:\n",
    "        print(tmp ,\"is even\")\n",
    "    else:\n",
    "        print(tmp,\"is odd\")"
   ]
  },
  {
   "cell_type": "code",
   "execution_count": 45,
   "metadata": {},
   "outputs": [
    {
     "name": "stdout",
     "output_type": "stream",
     "text": [
      "(20, 10, 16, 99, 55)\n",
      "20 is even\n",
      "10 is even\n",
      "16 is even\n"
     ]
    }
   ],
   "source": [
    "#print even numbers only\n",
    "tup4=(20,10,16,99,55)\n",
    "print(tup4)\n",
    "for tmp in (tup4):\n",
    "    if (tmp%2)==0:\n",
    "        print(tmp ,\"is even\")\n",
    "        "
   ]
  },
  {
   "cell_type": "code",
   "execution_count": 47,
   "metadata": {},
   "outputs": [
    {
     "name": "stdout",
     "output_type": "stream",
     "text": [
      "(20, 10, 16, 99, 55)\n",
      "99 is Odd\n",
      "55 is Odd\n"
     ]
    }
   ],
   "source": [
    "#print odd numbers only\n",
    "tup4=(20,10,16,99,55)\n",
    "print(tup4)\n",
    "for tmp in (tup4):\n",
    "    if (tmp%2)==1:\n",
    "        print(tmp ,\"is Odd\")"
   ]
  }
 ],
 "metadata": {
  "kernelspec": {
   "display_name": "Python 3",
   "language": "python",
   "name": "python3"
  },
  "language_info": {
   "codemirror_mode": {
    "name": "ipython",
    "version": 3
   },
   "file_extension": ".py",
   "mimetype": "text/x-python",
   "name": "python",
   "nbconvert_exporter": "python",
   "pygments_lexer": "ipython3",
   "version": "3.7.4"
  }
 },
 "nbformat": 4,
 "nbformat_minor": 2
}
