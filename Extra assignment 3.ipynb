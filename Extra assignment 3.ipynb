{
 "cells": [
  {
   "cell_type": "code",
   "execution_count": 5,
   "metadata": {},
   "outputs": [
    {
     "name": "stdout",
     "output_type": "stream",
     "text": [
      "Enter the number12\n",
      "wrong\n"
     ]
    }
   ],
   "source": [
    "x=int(input(\"Enter the number\"))\n",
    "if x==10 :\n",
    "    print(\"correct\")\n",
    "else:\n",
    "    print(\"wrong\")"
   ]
  },
  {
   "cell_type": "code",
   "execution_count": 6,
   "metadata": {},
   "outputs": [
    {
     "name": "stdout",
     "output_type": "stream",
     "text": [
      "Enter the number10\n",
      "correct\n"
     ]
    }
   ],
   "source": [
    "x=int(input(\"Enter the number\"))\n",
    "if x==10 :\n",
    "    print(\"correct\")\n",
    "else:\n",
    "    print(\"wrong\")"
   ]
  },
  {
   "cell_type": "code",
   "execution_count": 16,
   "metadata": {},
   "outputs": [
    {
     "name": "stdout",
     "output_type": "stream",
     "text": [
      "Enter the age-10\n",
      "child\n"
     ]
    }
   ],
   "source": [
    "age=int(input(\"Enter the age\"))\n",
    "if age<18:\n",
    "    print(\"child\")\n",
    "elif age>=18 and age<50:\n",
    "    print(\"Adult\")\n",
    "elif age>=50 and age<60:\n",
    "    print(\"citizen\")\n",
    "else :\n",
    "    print(\"senior citize\")"
   ]
  },
  {
   "cell_type": "code",
   "execution_count": 21,
   "metadata": {},
   "outputs": [
    {
     "name": "stdout",
     "output_type": "stream",
     "text": [
      "Enter the number 0\n",
      "0 is positive\n"
     ]
    }
   ],
   "source": [
    "#to check number is +ve or -ve\n",
    "x=int(input(\"Enter the number \"))\n",
    "if x <0:\n",
    "    print(x,\"is negative\")\n",
    "else:\n",
    "    print(x,\"is positive\")"
   ]
  },
  {
   "cell_type": "code",
   "execution_count": 25,
   "metadata": {},
   "outputs": [
    {
     "name": "stdout",
     "output_type": "stream",
     "text": [
      "Enter the number 33\n",
      "33 is not divisble by 5\n"
     ]
    }
   ],
   "source": [
    "#to check number is divisible 5 or not\n",
    "#mod operator\n",
    "a=int(input(\"Enter the number \"))\n",
    "if a%5==0:\n",
    "    print(a,\"is divisible by 5\")\n",
    "else:\n",
    "    print(a,\"is not divisble by 5\")"
   ]
  }
 ],
 "metadata": {
  "kernelspec": {
   "display_name": "Python 3",
   "language": "python",
   "name": "python3"
  },
  "language_info": {
   "codemirror_mode": {
    "name": "ipython",
    "version": 3
   },
   "file_extension": ".py",
   "mimetype": "text/x-python",
   "name": "python",
   "nbconvert_exporter": "python",
   "pygments_lexer": "ipython3",
   "version": "3.7.4"
  }
 },
 "nbformat": 4,
 "nbformat_minor": 2
}
