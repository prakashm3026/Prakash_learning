{
 "cells": [
  {
   "cell_type": "code",
   "execution_count": 1,
   "metadata": {},
   "outputs": [],
   "source": [
    "#Importing the pickle library\n",
    "import pickle"
   ]
  },
  {
   "cell_type": "code",
   "execution_count": 4,
   "metadata": {},
   "outputs": [
    {
     "name": "stdout",
     "output_type": "stream",
     "text": [
      "Enter the Amount for R&D Spend:1234\n",
      "Enter the amount for Administration:345\n",
      "Enter the amount for marketing:3456\n",
      "Enter the value for florida:1\n",
      "Enter the value for New york:0\n"
     ]
    },
    {
     "data": {
      "text/plain": [
       "array([[43960.40198272]])"
      ]
     },
     "execution_count": 4,
     "metadata": {},
     "output_type": "execute_result"
    }
   ],
   "source": [
    "#executing the saved model--> runtime input\n",
    "RD_Spend=int(input(\"Enter the Amount for R&D Spend:\"))\n",
    "Administration=int(input(\"Enter the amount for Administration:\"))\n",
    "Marketing_Spend\t=int(input(\"Enter the amount for marketing:\"))\n",
    "State_Florida\t=int(input(\"Enter the value for florida:\"))\n",
    "State_New_York=int(input(\"Enter the value for New york:\"))\n",
    "load_model=pickle.load(open(\"final_model_multiple_linear.sav\",'rb'))\n",
    "results=load_model.predict([[RD_Spend,Administration,Marketing_Spend,State_Florida,State_New_York]])\n",
    "results"
   ]
  },
  {
   "cell_type": "code",
   "execution_count": null,
   "metadata": {},
   "outputs": [],
   "source": []
  }
 ],
 "metadata": {
  "kernelspec": {
   "display_name": "Python 3",
   "language": "python",
   "name": "python3"
  },
  "language_info": {
   "codemirror_mode": {
    "name": "ipython",
    "version": 3
   },
   "file_extension": ".py",
   "mimetype": "text/x-python",
   "name": "python",
   "nbconvert_exporter": "python",
   "pygments_lexer": "ipython3",
   "version": "3.7.4"
  }
 },
 "nbformat": 4,
 "nbformat_minor": 2
}
