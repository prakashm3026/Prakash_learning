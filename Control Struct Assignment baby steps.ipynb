{
 "cells": [
  {
   "cell_type": "code",
   "execution_count": 2,
   "metadata": {},
   "outputs": [
    {
     "name": "stdout",
     "output_type": "stream",
     "text": [
      "Welcome to Assignment-1\n"
     ]
    }
   ],
   "source": [
    "print(\"Welcome to Assignment-1\")"
   ]
  },
  {
   "cell_type": "code",
   "execution_count": 3,
   "metadata": {},
   "outputs": [
    {
     "name": "stdout",
     "output_type": "stream",
     "text": [
      "Num1 = 10\n",
      "Num2 = 30\n",
      "Add = 40\n"
     ]
    }
   ],
   "source": [
    "Num1=10\n",
    "Num2=30\n",
    "Add=Num1+Num2\n",
    "print(\"Num1 =\",Num1)\n",
    "print(\"Num2 =\",Num2)\n",
    "print(\"Add =\",Add)"
   ]
  },
  {
   "cell_type": "code",
   "execution_count": 7,
   "metadata": {},
   "outputs": [
    {
     "name": "stdout",
     "output_type": "stream",
     "text": [
      "Enter the BMI value 55\n",
      "Over Class 3\n"
     ]
    }
   ],
   "source": [
    "BMI=int(input(\"Enter the BMI value \"))\n",
    "#print(\"enter the BMI value\",BMI)\n",
    "if BMI < 18.5 :\n",
    "    print(\"under weight\")\n",
    "elif (BMI <24.9 and BMI >=18.9):\n",
    "    print(\"Normal Range\")\n",
    "elif (BMI <29.9 and BMI >=25):\n",
    "    print(\"Over weight\")\n",
    "elif (BMI <34.9 and BMI >=30):\n",
    "    print(\"Obese Class1\")\n",
    "elif (BMI <39.9 and BMI >=35):\n",
    "    print(\"Obese Class2\")\n",
    "else:\n",
    "    print(\"Over Class 3\")"
   ]
  },
  {
   "cell_type": "code",
   "execution_count": null,
   "metadata": {},
   "outputs": [],
   "source": []
  }
 ],
 "metadata": {
  "kernelspec": {
   "display_name": "Python 3",
   "language": "python",
   "name": "python3"
  },
  "language_info": {
   "codemirror_mode": {
    "name": "ipython",
    "version": 3
   },
   "file_extension": ".py",
   "mimetype": "text/x-python",
   "name": "python",
   "nbconvert_exporter": "python",
   "pygments_lexer": "ipython3",
   "version": "3.7.4"
  }
 },
 "nbformat": 4,
 "nbformat_minor": 2
}
