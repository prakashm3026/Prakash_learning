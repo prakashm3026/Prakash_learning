{
 "cells": [
  {
   "cell_type": "code",
   "execution_count": 2,
   "metadata": {},
   "outputs": [],
   "source": [
    "#simple function\n",
    "def sum_fn(a,b):\n",
    "    sum_fn=a+b\n",
    "    return sum_fn"
   ]
  },
  {
   "cell_type": "code",
   "execution_count": 20,
   "metadata": {},
   "outputs": [
    {
     "name": "stdout",
     "output_type": "stream",
     "text": [
      "3.142857142857143\n"
     ]
    }
   ],
   "source": [
    "#Division\n",
    "a=22/7\n",
    "print(a)"
   ]
  },
  {
   "cell_type": "code",
   "execution_count": 9,
   "metadata": {},
   "outputs": [
    {
     "name": "stdout",
     "output_type": "stream",
     "text": [
      "2\n"
     ]
    }
   ],
   "source": [
    "# decrement operator\n",
    "i=3\n",
    "i -=1\n",
    "print(i)"
   ]
  },
  {
   "cell_type": "code",
   "execution_count": 99,
   "metadata": {},
   "outputs": [],
   "source": [
    "list=[11,21,43,94,56,100]\n",
    "def age_cat():\n",
    "    for age in list:\n",
    "        if age < 18 :\n",
    "            print(\"Child\")\n",
    "        else:\n",
    "            print(\"Adult\")\n",
    "    "
   ]
  },
  {
   "cell_type": "code",
   "execution_count": 100,
   "metadata": {},
   "outputs": [
    {
     "name": "stdout",
     "output_type": "stream",
     "text": [
      "Child\n",
      "Adult\n",
      "Adult\n",
      "Adult\n",
      "Adult\n",
      "Adult\n"
     ]
    }
   ],
   "source": [
    "age_cat()"
   ]
  },
  {
   "cell_type": "code",
   "execution_count": null,
   "metadata": {},
   "outputs": [],
   "source": []
  },
  {
   "cell_type": "code",
   "execution_count": 91,
   "metadata": {},
   "outputs": [
    {
     "name": "stdout",
     "output_type": "stream",
     "text": [
      "Enter the name Praveen\n"
     ]
    }
   ],
   "source": [
    "#simple if\n",
    "x=input(\"Enter the name \")\n",
    "if x==\"prakash\":\n",
    "    print(x, \"is my name\")"
   ]
  },
  {
   "cell_type": "code",
   "execution_count": 20,
   "metadata": {},
   "outputs": [
    {
     "name": "stdout",
     "output_type": "stream",
     "text": [
      "1\r\n",
      "12\r\n",
      "123\r\n",
      "1234\r\n",
      "12345\r\n",
      "123456\r\n",
      "1234567\r\n",
      "12345678\r\n",
      "123456789\r\n"
     ]
    }
   ],
   "source": [
    "#print triangle pattern1\n",
    "for i in (range(1,10)):\n",
    "    for j in range(1,i+1):\n",
    "        print(j ,end=\"\")\n",
    "    print(\"\\r\")"
   ]
  },
  {
   "cell_type": "code",
   "execution_count": 32,
   "metadata": {},
   "outputs": [
    {
     "name": "stdout",
     "output_type": "stream",
     "text": [
      "1\r\n",
      "22\r\n",
      "333\r\n",
      "4444\r\n",
      "55555\r\n",
      "666666\r\n",
      "7777777\r\n",
      "88888888\r\n",
      "999999999\r\n"
     ]
    }
   ],
   "source": [
    "#print triangle pattern2\n",
    "for i in (range(1,10)):\n",
    "    for j in range(1,i+1):\n",
    "        print(i ,end=\"\")\n",
    "    print(\"\\r\")"
   ]
  },
  {
   "cell_type": "code",
   "execution_count": 3,
   "metadata": {},
   "outputs": [
    {
     "name": "stdout",
     "output_type": "stream",
     "text": [
      "Enter the number 5\n",
      "12345\n",
      "1234\n",
      "123\n",
      "12\n",
      "1\n"
     ]
    }
   ],
   "source": [
    "#print inverted triangle\n",
    "n=int(input(\"Enter the number \"))\n",
    "for i in range(n,0,-1):\n",
    "    for j in (range(1,i+1)):\n",
    "        print(j,end=\"\")\n",
    "    print('\\r')"
   ]
  },
  {
   "cell_type": "code",
   "execution_count": 120,
   "metadata": {},
   "outputs": [
    {
     "name": "stdout",
     "output_type": "stream",
     "text": [
      "Enter the number 5\n",
      "5 4 3 2 1 \n",
      "4 3 2 1 \n",
      "3 2 1 \n",
      "2 1 \n",
      "1 \n"
     ]
    }
   ],
   "source": [
    "#print inverted triangle 2\n",
    "n=int(input(\"Enter the number \"))\n",
    "k=n\n",
    "for i in range(0,n+i):\n",
    "    for j in range(k-i,0,-1):\n",
    "        print(j,end=\" \")\n",
    "    print()"
   ]
  },
  {
   "cell_type": "code",
   "execution_count": 124,
   "metadata": {},
   "outputs": [
    {
     "name": "stdout",
     "output_type": "stream",
     "text": [
      "0\n",
      "2\n",
      "4\n",
      "6\n",
      "8\n",
      "--------------------------------\n",
      "8\n",
      "6\n",
      "4\n",
      "2\n",
      "0\n"
     ]
    }
   ],
   "source": [
    "for x in range(0,10,2):\n",
    "    print(x)\n",
    "print(\"--------------------------------\")\n",
    "for x in reversed(range(0,10,2)):\n",
    "    print(x)"
   ]
  },
  {
   "cell_type": "code",
   "execution_count": 110,
   "metadata": {},
   "outputs": [],
   "source": [
    "state=[\"Tamil\",\"Malayalam\",\"Kanada\",\"Telegu\"]"
   ]
  },
  {
   "cell_type": "code",
   "execution_count": 111,
   "metadata": {},
   "outputs": [],
   "source": [
    "#finding state name using lang by for if\n",
    "def state_cat():\n",
    "    for x in state:\n",
    "        if x==\"Tamil\":\n",
    "            print(\"Tamilnadu\")\n",
    "            statname=\"Tamilnadu\"\n",
    "        elif x==\"Malayalam\":\n",
    "            print(\"Kerala\")\n",
    "            statname=\"Kerala\"\n",
    "        elif x==\"Kanada\":\n",
    "            ptint(\"Karnataka\")\n",
    "            statname=\"Karnataka\"\n",
    "        else:\n",
    "            print(\"Andra\")\n",
    "            statname=\"Andra\"\n",
    "        return statname\n",
    "            "
   ]
  },
  {
   "cell_type": "code",
   "execution_count": 112,
   "metadata": {},
   "outputs": [
    {
     "name": "stdout",
     "output_type": "stream",
     "text": [
      "Enter the languageASdf\n",
      "Tamilnadu\n"
     ]
    },
    {
     "data": {
      "text/plain": [
       "'Tamilnadu'"
      ]
     },
     "execution_count": 112,
     "metadata": {},
     "output_type": "execute_result"
    }
   ],
   "source": [
    "op=input(\"Enter the language\")\n",
    "state_cat()"
   ]
  },
  {
   "cell_type": "code",
   "execution_count": 11,
   "metadata": {},
   "outputs": [
    {
     "name": "stdout",
     "output_type": "stream",
     "text": [
      "['Tamil', 'Malayalam', 'Kanada', 'Telegu']\n"
     ]
    }
   ],
   "source": [
    "print(state)"
   ]
  },
  {
   "cell_type": "code",
   "execution_count": 17,
   "metadata": {},
   "outputs": [
    {
     "name": "stdout",
     "output_type": "stream",
     "text": [
      "Kanada\n"
     ]
    }
   ],
   "source": [
    "print(state[2])"
   ]
  },
  {
   "cell_type": "code",
   "execution_count": 15,
   "metadata": {},
   "outputs": [
    {
     "name": "stdout",
     "output_type": "stream",
     "text": [
      "Telegu\n"
     ]
    }
   ],
   "source": [
    "print(max(state))"
   ]
  },
  {
   "cell_type": "code",
   "execution_count": 113,
   "metadata": {},
   "outputs": [
    {
     "name": "stdout",
     "output_type": "stream",
     "text": [
      "['Tamil', 'Malayalam', 'Kanada', 'Telegu']\n",
      "Kanada\n",
      "['Tamil', 'Malayalam', 'Kanada', 'Telegu']\n"
     ]
    }
   ],
   "source": [
    "print(state)\n",
    "print(min(state))\n",
    "print(state)"
   ]
  },
  {
   "cell_type": "code",
   "execution_count": 20,
   "metadata": {},
   "outputs": [
    {
     "name": "stdout",
     "output_type": "stream",
     "text": [
      "9\n",
      "1\n",
      "7\n"
     ]
    }
   ],
   "source": [
    "num=[1,8,3,7,9,6,5]\n"
   ]
  },
  {
   "cell_type": "code",
   "execution_count": 23,
   "metadata": {},
   "outputs": [
    {
     "name": "stdout",
     "output_type": "stream",
     "text": [
      "[1, 8, 3, 7, 9, 6, 5]\n",
      "9\n",
      "1\n",
      "5\n",
      "7\n"
     ]
    }
   ],
   "source": [
    "print(num)\n",
    "print(max(num))\n",
    "print(min(num))\n",
    "print(num[6])\n",
    "print(len(num))"
   ]
  },
  {
   "cell_type": "code",
   "execution_count": 24,
   "metadata": {},
   "outputs": [],
   "source": [
    "#simple odd even fn without return\n",
    "def evenodd():\n",
    "    for i in num:\n",
    "        if (i%2)==0:\n",
    "            print(\"Number is even\")\n",
    "        else:\n",
    "            print(\"Number is odd\")"
   ]
  },
  {
   "cell_type": "code",
   "execution_count": 25,
   "metadata": {},
   "outputs": [
    {
     "name": "stdout",
     "output_type": "stream",
     "text": [
      "Number is odd\n",
      "Number is even\n",
      "Number is odd\n",
      "Number is odd\n",
      "Number is odd\n",
      "Number is even\n",
      "Number is odd\n"
     ]
    }
   ],
   "source": [
    "evenodd()"
   ]
  },
  {
   "cell_type": "code",
   "execution_count": 55,
   "metadata": {},
   "outputs": [],
   "source": [
    "#simple odd even fn with retrun\n",
    "def evenodd1():\n",
    "    if (x%2)==0:\n",
    "        print(x,\"Number is even\")\n",
    "        mesg=0\n",
    "    else:\n",
    "        print(x,\"Number is odd\")\n",
    "        mesg=1\n",
    "    return mesg"
   ]
  },
  {
   "cell_type": "code",
   "execution_count": 50,
   "metadata": {},
   "outputs": [
    {
     "name": "stdout",
     "output_type": "stream",
     "text": [
      "Enter the number34\n",
      "34 Number is even\n",
      "34 Number is even\n"
     ]
    }
   ],
   "source": [
    "#Calling function and displaying\n",
    "x=int(input(\"Enter the number\"))\n",
    "evenodd1()\n",
    "msg1=evenodd1()"
   ]
  },
  {
   "cell_type": "code",
   "execution_count": 54,
   "metadata": {},
   "outputs": [
    {
     "name": "stdout",
     "output_type": "stream",
     "text": [
      "This is even arrangement\n"
     ]
    }
   ],
   "source": [
    "#output of previous fn as input to this fun\n",
    "if (msg1==1):\n",
    "    print(\"this is odd arrangement\")\n",
    "else:\n",
    "    print(\"This is even arrangement\")"
   ]
  },
  {
   "cell_type": "code",
   "execution_count": 1,
   "metadata": {},
   "outputs": [],
   "source": [
    "state=[\"Tamil\",\"Malayalam\",\"Kanada\",\"Telegu\"]"
   ]
  },
  {
   "cell_type": "code",
   "execution_count": 18,
   "metadata": {},
   "outputs": [
    {
     "name": "stdout",
     "output_type": "stream",
     "text": [
      "['Tamil', 'Malayalam', 'Kanada', 'Telegu']\n",
      "Tamil Malayalam Kanada Telegu\n",
      "Tamil\n",
      "Malayalam\n",
      "Kanada\n",
      "Telegu\n",
      "====================\n",
      "Telegu\n",
      "Kanada\n",
      "Malayalam\n",
      "Tamil\n"
     ]
    }
   ],
   "source": [
    "print(state)\n",
    "print(*state)\n",
    "for x in range(len(state)):\n",
    "    print (state[x])\n",
    "print(\"====================\")\n",
    "for x in  reversed(range(len(state))):\n",
    "    print (state[x])"
   ]
  },
  {
   "cell_type": "code",
   "execution_count": 56,
   "metadata": {},
   "outputs": [
    {
     "name": "stdout",
     "output_type": "stream",
     "text": [
      "Enter the number55\n",
      "55 Number is odd\n",
      "55 Number is odd\n",
      "this is odd arrangement\n"
     ]
    }
   ],
   "source": [
    "#output of previous fn as input to this fun\n",
    "x=int(input(\"Enter the number\"))\n",
    "evenodd1()\n",
    "msg1=evenodd1()\n",
    "if (msg1==1):\n",
    "    print(\"this is odd arrangement\")\n",
    "else:\n",
    "    print(\"This is even arrangement\")"
   ]
  },
  {
   "cell_type": "code",
   "execution_count": 62,
   "metadata": {},
   "outputs": [
    {
     "name": "stdout",
     "output_type": "stream",
     "text": [
      "Second highest number is :  65\n"
     ]
    }
   ],
   "source": [
    "list1 = [10, 20, 4, 45, 199,65]\n",
    " \n",
    "mx = max(list1[0], list1[1])\n",
    "secondmax = min(list1[0], list1[1])\n",
    "n = len(list1)\n",
    "for i in range(2,n):\n",
    "    if list1[i] > mx:\n",
    "        secondmax = mx\n",
    "        mx = list1[i]\n",
    "    elif list1[i] > secondmax and \\\n",
    "        mx != list1[i]:\n",
    "        secondmax = list1[i]\n",
    "    elif mx == secondmax and \\\n",
    "        secondmax != list1[i]:\n",
    "          secondmax = list1[i]\n",
    " \n",
    "print(\"Second highest number is : \",\\\n",
    "      str(secondmax))"
   ]
  },
  {
   "cell_type": "code",
   "execution_count": 63,
   "metadata": {},
   "outputs": [
    {
     "name": "stdout",
     "output_type": "stream",
     "text": [
      "        * \r\n",
      "      * * \r\n",
      "    * * * \r\n",
      "  * * * * \r\n",
      "* * * * * \r\n"
     ]
    }
   ],
   "source": [
    "# Function to demonstrate printing pattern\n",
    "def pypart2(n):\n",
    "     \n",
    "    # number of spaces\n",
    "    k = 2*n - 2\n",
    " \n",
    "    # outer loop to handle number of rows\n",
    "    for i in range(0, n):\n",
    "     \n",
    "        # inner loop to handle number spaces\n",
    "        # values changing acc. to requirement\n",
    "        for j in range(0, k):\n",
    "            print(end=\" \")\n",
    "     \n",
    "        # decrementing k after each loop\n",
    "        k = k - 2\n",
    "     \n",
    "        # inner loop to handle number of columns\n",
    "        # values changing acc. to outer loop\n",
    "        for j in range(0, i+1):\n",
    "         \n",
    "            # printing stars\n",
    "            print(\"* \", end=\"\")\n",
    "     \n",
    "        # ending line after each row\n",
    "        print(\"\\r\")\n",
    " \n",
    "# Driver Code\n",
    "n = 5\n",
    "pypart2(n)"
   ]
  },
  {
   "cell_type": "code",
   "execution_count": 64,
   "metadata": {},
   "outputs": [],
   "source": [
    "#parameterise function\n",
    "def addition(num1,num2):\n",
    "    add=num1+num2\n",
    "    return(add)"
   ]
  },
  {
   "cell_type": "code",
   "execution_count": 65,
   "metadata": {},
   "outputs": [
    {
     "data": {
      "text/plain": [
       "10"
      ]
     },
     "execution_count": 65,
     "metadata": {},
     "output_type": "execute_result"
    }
   ],
   "source": [
    "addition(4,6)"
   ]
  },
  {
   "cell_type": "code",
   "execution_count": 69,
   "metadata": {},
   "outputs": [],
   "source": [
    "def addition(num1,num2):\n",
    "    add=num1+num2\n",
    "    sub=num1-num2\n",
    "    mul=num1*num2\n",
    "    return(mul)\n",
    "    return(sub)\n",
    "    return(add)"
   ]
  },
  {
   "cell_type": "code",
   "execution_count": 70,
   "metadata": {},
   "outputs": [
    {
     "data": {
      "text/plain": [
       "40"
      ]
     },
     "execution_count": 70,
     "metadata": {},
     "output_type": "execute_result"
    }
   ],
   "source": [
    "addition(10,4)"
   ]
  },
  {
   "cell_type": "code",
   "execution_count": 71,
   "metadata": {},
   "outputs": [],
   "source": [
    "def addition(num1,num2):\n",
    "    add=num1+num2\n",
    "    sub=num1-num2\n",
    "    mul=num1*num2\n",
    "    return mul, sub,add"
   ]
  },
  {
   "cell_type": "code",
   "execution_count": 72,
   "metadata": {},
   "outputs": [
    {
     "data": {
      "text/plain": [
       "(40, 6, 14)"
      ]
     },
     "execution_count": 72,
     "metadata": {},
     "output_type": "execute_result"
    }
   ],
   "source": [
    "addition(10,4)"
   ]
  },
  {
   "cell_type": "code",
   "execution_count": 129,
   "metadata": {},
   "outputs": [
    {
     "name": "stdout",
     "output_type": "stream",
     "text": [
      "Enter first number -6\n",
      "Enter second number -7\n",
      "42 1 -13\n",
      "1\n",
      "-13\n"
     ]
    }
   ],
   "source": [
    "num1=int(input(\"Enter first number \"))\n",
    "num2=int(input(\"Enter second number \"))\n",
    "def addition(num1,num2):\n",
    "    add=num1+num2\n",
    "    sub=num1-num2\n",
    "    mul=num1*num2\n",
    "    return mul, sub,add\n",
    "mul, sub,add = addition(num1,num2)\n",
    "print(mul, sub,add)\n",
    "print(sub)\n",
    "print(add)"
   ]
  },
  {
   "cell_type": "code",
   "execution_count": 86,
   "metadata": {},
   "outputs": [
    {
     "data": {
      "text/plain": [
       "(10, 3, 7)"
      ]
     },
     "execution_count": 86,
     "metadata": {},
     "output_type": "execute_result"
    }
   ],
   "source": [
    "addition(5,2)"
   ]
  },
  {
   "cell_type": "code",
   "execution_count": 116,
   "metadata": {},
   "outputs": [
    {
     "name": "stdout",
     "output_type": "stream",
     "text": [
      "150\n",
      "145\n"
     ]
    }
   ],
   "source": [
    "#print numbers divisoble by 5 less than 500 and greater than 150\n",
    "numbers=[12.50,150,63,145,503,50,5,65]\n",
    "for x in numbers:\n",
    "    if x >500:\n",
    "        break\n",
    "    elif x > 150:\n",
    "        continue\n",
    "    elif x%5==0:\n",
    "        print(x)"
   ]
  },
  {
   "cell_type": "code",
   "execution_count": 117,
   "metadata": {},
   "outputs": [
    {
     "name": "stdout",
     "output_type": "stream",
     "text": [
      "Enter the number 345\n",
      "Total digits  3\n"
     ]
    }
   ],
   "source": [
    "#count the total digits of the number\n",
    "num=int(input(\"Enter the number \"))\n",
    "count=0\n",
    "while num !=0:\n",
    "    #floor division to reduce the last digit from number\n",
    "    num=num//10\n",
    "    count=count+1 # increment the counter\n",
    "print(\"Total digits \",count)"
   ]
  },
  {
   "cell_type": "code",
   "execution_count": 6,
   "metadata": {},
   "outputs": [
    {
     "name": "stdout",
     "output_type": "stream",
     "text": [
      "1 2 3 4 5 6 7 8\n"
     ]
    }
   ],
   "source": [
    "print(*range(1,9))"
   ]
  },
  {
   "cell_type": "code",
   "execution_count": 27,
   "metadata": {},
   "outputs": [
    {
     "name": "stdout",
     "output_type": "stream",
     "text": [
      "Enter the word mynameisiniya\n",
      "enter the position 4\n",
      "m\n",
      "13\n"
     ]
    }
   ],
   "source": [
    "#print the nth character of a string\n",
    "word=input(\"Enter the word \")\n",
    "n=int(input(\"enter the position \"))\n",
    "print(word[n])\n",
    "print(len(word))"
   ]
  },
  {
   "cell_type": "code",
   "execution_count": 30,
   "metadata": {},
   "outputs": [
    {
     "name": "stdout",
     "output_type": "stream",
     "text": [
      "Enter the word iniya\n",
      "i 0\n",
      "n 1\n",
      "i 2\n",
      "y 3\n",
      "a 4\n",
      "5\n"
     ]
    }
   ],
   "source": [
    "#print the string vertically\n",
    "word=input(\"Enter the word \")\n",
    "#n=int(input(\"enter the position \"))\n",
    "l=len(word)\n",
    "for i in range(0,l):\n",
    "    print(word[i],i)\n",
    "print(len(word))"
   ]
  },
  {
   "cell_type": "code",
   "execution_count": 52,
   "metadata": {},
   "outputs": [
    {
     "name": "stdout",
     "output_type": "stream",
     "text": [
      "Enter the word prakash\n",
      "h 0\n",
      "s 1\n",
      "a 2\n",
      "k 3\n",
      "a 4\n",
      "r 5\n",
      "p 6\n",
      "7\n"
     ]
    }
   ],
   "source": [
    "#print the string vertically reversed\n",
    "word=input(\"Enter the word \")[::-1]\n",
    "#n=int(input(\"enter the position \"))\n",
    "l=len(word)\n",
    "for i in range(0,l):\n",
    "    print(word[i],i)\n",
    "print(len(word))"
   ]
  },
  {
   "cell_type": "code",
   "execution_count": 50,
   "metadata": {},
   "outputs": [
    {
     "name": "stdout",
     "output_type": "stream",
     "text": [
      "dlrow olleh\n"
     ]
    }
   ],
   "source": [
    "txt=\"hello world\" [::-1]\n",
    "print(txt)"
   ]
  },
  {
   "cell_type": "code",
   "execution_count": null,
   "metadata": {},
   "outputs": [],
   "source": []
  }
 ],
 "metadata": {
  "kernelspec": {
   "display_name": "Python 3",
   "language": "python",
   "name": "python3"
  },
  "language_info": {
   "codemirror_mode": {
    "name": "ipython",
    "version": 3
   },
   "file_extension": ".py",
   "mimetype": "text/x-python",
   "name": "python",
   "nbconvert_exporter": "python",
   "pygments_lexer": "ipython3",
   "version": "3.7.4"
  }
 },
 "nbformat": 4,
 "nbformat_minor": 2
}
