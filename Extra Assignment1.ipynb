{
 "cells": [
  {
   "cell_type": "code",
   "execution_count": 2,
   "metadata": {},
   "outputs": [
    {
     "name": "stdout",
     "output_type": "stream",
     "text": [
      "Hope AI\n"
     ]
    }
   ],
   "source": [
    "#print string\n",
    "print(\"Hope AI\")"
   ]
  },
  {
   "cell_type": "code",
   "execution_count": 5,
   "metadata": {},
   "outputs": [
    {
     "name": "stdout",
     "output_type": "stream",
     "text": [
      "Enter your institute name ? :Hope AI\n"
     ]
    }
   ],
   "source": [
    "#ptrint the runtime input\n",
    "text=input(\"Enter your institute name ? :\")"
   ]
  },
  {
   "cell_type": "code",
   "execution_count": 9,
   "metadata": {},
   "outputs": [
    {
     "name": "stdout",
     "output_type": "stream",
     "text": [
      "Enter your name :Prakash\n",
      "Enter your age:38\n",
      "Enter your school name :SRMHSS\n",
      "Enter your degeree :ME\n"
     ]
    }
   ],
   "source": [
    "#print the runtime input\n",
    "name=input(\"Enter your name :\")\n",
    "age=int(input(\"Enter your age:\"))\n",
    "school=input(\"Enter your school name :\")\n",
    "degree=input(\"Enter your degeree :\")"
   ]
  },
  {
   "cell_type": "code",
   "execution_count": 13,
   "metadata": {},
   "outputs": [
    {
     "name": "stdout",
     "output_type": "stream",
     "text": [
      "A= 43\n",
      "B=  34\n",
      "Add = 77\n"
     ]
    }
   ],
   "source": [
    "#Add\n",
    "a=43\n",
    "b=34\n",
    "add=a+b\n",
    "print(\"A=\",a)\n",
    "print(\"B= \",b)\n",
    "print(\"Add =\",add)"
   ]
  },
  {
   "cell_type": "code",
   "execution_count": 14,
   "metadata": {},
   "outputs": [
    {
     "name": "stdout",
     "output_type": "stream",
     "text": [
      "A= 43\n",
      "B=  34\n",
      "Sub = 9\n"
     ]
    }
   ],
   "source": [
    "#Sub\n",
    "a=43\n",
    "b=34\n",
    "sub=a-b\n",
    "print(\"A=\",a)\n",
    "print(\"B= \",b)\n",
    "print(\"Sub =\",sub)"
   ]
  },
  {
   "cell_type": "code",
   "execution_count": 15,
   "metadata": {},
   "outputs": [
    {
     "name": "stdout",
     "output_type": "stream",
     "text": [
      "A= 63\n",
      "B=  97\n",
      "Mul = 6111\n"
     ]
    }
   ],
   "source": [
    "#Multiply\n",
    "a=63\n",
    "b=97\n",
    "mul=a*b\n",
    "print(\"A=\",a)\n",
    "print(\"B= \",b)\n",
    "print(\"Mul =\",mul)"
   ]
  },
  {
   "cell_type": "code",
   "execution_count": 16,
   "metadata": {},
   "outputs": [
    {
     "name": "stdout",
     "output_type": "stream",
     "text": [
      "A= 76\n",
      "B=  31\n",
      "float div = 2.4516129032258065\n"
     ]
    }
   ],
   "source": [
    "#division float\n",
    "a=76\n",
    "b=31\n",
    "float_div=a/b\n",
    "print(\"A=\",a)\n",
    "print(\"B= \",b)\n",
    "print(\"float div =\",float_div)"
   ]
  },
  {
   "cell_type": "code",
   "execution_count": 26,
   "metadata": {},
   "outputs": [
    {
     "name": "stdout",
     "output_type": "stream",
     "text": [
      "A= 76\n",
      "B=  31\n",
      "floor div = 2\n"
     ]
    }
   ],
   "source": [
    "#floor division\n",
    "a=76\n",
    "b=31\n",
    "floor_div=a//b\n",
    "print(\"A=\",a)\n",
    "print(\"B= \",b)\n",
    "print(\"floor div =\",floor_div)"
   ]
  },
  {
   "cell_type": "code",
   "execution_count": 27,
   "metadata": {},
   "outputs": [
    {
     "name": "stdout",
     "output_type": "stream",
     "text": [
      "A= 76\n",
      "B=  31\n",
      "mod div = 14\n"
     ]
    }
   ],
   "source": [
    "#mod operator\n",
    "a=76\n",
    "b=31\n",
    "mod=a%b\n",
    "print(\"A=\",a)\n",
    "print(\"B= \",b)\n",
    "print(\"mod div =\",mod)"
   ]
  },
  {
   "cell_type": "code",
   "execution_count": 22,
   "metadata": {},
   "outputs": [
    {
     "name": "stdout",
     "output_type": "stream",
     "text": [
      "A= 76\n",
      "B=  3\n",
      "power = 438976\n"
     ]
    }
   ],
   "source": [
    "#Power\n",
    "a=76\n",
    "b=3\n",
    "power=a**b\n",
    "print(\"A=\",a)\n",
    "print(\"B= \",b)\n",
    "print(\"power =\",power)"
   ]
  }
 ],
 "metadata": {
  "kernelspec": {
   "display_name": "Python 3",
   "language": "python",
   "name": "python3"
  },
  "language_info": {
   "codemirror_mode": {
    "name": "ipython",
    "version": 3
   },
   "file_extension": ".py",
   "mimetype": "text/x-python",
   "name": "python",
   "nbconvert_exporter": "python",
   "pygments_lexer": "ipython3",
   "version": "3.7.4"
  }
 },
 "nbformat": 4,
 "nbformat_minor": 2
}
