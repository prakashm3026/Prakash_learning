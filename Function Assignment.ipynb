{
 "cells": [
  {
   "cell_type": "code",
   "execution_count": 114,
   "metadata": {},
   "outputs": [],
   "source": [
    "AI=[\"Machine Learning\",\"Neural Networks\",\"Vision\",\"Robotics\",\"Speech Processing\",\"Natural Language Processing\"]"
   ]
  },
  {
   "cell_type": "code",
   "execution_count": 121,
   "metadata": {},
   "outputs": [],
   "source": [
    "def subfields():\n",
    "    print(\"Sub fields in Ai are: \")\n",
    "    for x in range(len(AI)):\n",
    "        print (AI[x]) #method 1\n",
    "    print(\"+++++++++++++++++++++++++++++++\")\n",
    "    print(\"Sub fields in Ai are: \")\n",
    "    [print(i) for i in AI] #method 2"
   ]
  },
  {
   "cell_type": "code",
   "execution_count": 122,
   "metadata": {},
   "outputs": [
    {
     "name": "stdout",
     "output_type": "stream",
     "text": [
      "Sub fields in Ai are: \n",
      "Machine Learning\n",
      "Neural Networks\n",
      "Vision\n",
      "Robotics\n",
      "Speech Processing\n",
      "Natural Language Processing\n",
      "+++++++++++++++++++++++++++++++\n",
      "Sub fields in Ai are: \n",
      "Machine Learning\n",
      "Neural Networks\n",
      "Vision\n",
      "Robotics\n",
      "Speech Processing\n",
      "Natural Language Processing\n"
     ]
    }
   ],
   "source": [
    "subfields()"
   ]
  },
  {
   "cell_type": "code",
   "execution_count": 18,
   "metadata": {},
   "outputs": [],
   "source": [
    "def evenodd1():\n",
    "    x=int(input(\"enter the number: \"))\n",
    "    if (x%2)==0:\n",
    "        print(x,\"Number is even\")\n",
    "        mesg=0\n",
    "    else:\n",
    "        print(x,\"Number is odd\")\n",
    "        mesg=1\n",
    "    #return mesg"
   ]
  },
  {
   "cell_type": "code",
   "execution_count": 19,
   "metadata": {},
   "outputs": [
    {
     "name": "stdout",
     "output_type": "stream",
     "text": [
      "enter the number: 555\n",
      "555 Number is odd\n"
     ]
    }
   ],
   "source": [
    "evenodd1()"
   ]
  },
  {
   "cell_type": "code",
   "execution_count": 51,
   "metadata": {},
   "outputs": [],
   "source": [
    "def eligible():\n",
    "    gen=input(\"Enter the gender :\")\n",
    "    age=int(input(\"Enter the age :\"))\n",
    "    if (gen.upper()==\"M\") & (age > 21):\n",
    "        print(\"you are eligible\")\n",
    "    elif (gen.upper()==\"F\") & (age >18):\n",
    "        print(\"You are eligible\")\n",
    "    else:\n",
    "        print(\"You are not eligible\")"
   ]
  },
  {
   "cell_type": "code",
   "execution_count": 53,
   "metadata": {},
   "outputs": [
    {
     "name": "stdout",
     "output_type": "stream",
     "text": [
      "Enter the gender :M\n",
      "Enter the age :23\n",
      "you are eligible\n"
     ]
    }
   ],
   "source": [
    "eligible()"
   ]
  },
  {
   "cell_type": "code",
   "execution_count": 102,
   "metadata": {},
   "outputs": [],
   "source": [
    "def percentage():\n",
    "    m1,m2,m3,m4,m5=input(\"Enter the marks :\").split()\n",
    "    print (m1,m2,m3,m4,m5)\n",
    "    print(\"Subject1=\",m1)\n",
    "    print(\"Subject2=\",m2)\n",
    "    print(\"Subject3=\",m3)\n",
    "    print(\"Subject4=\",m5)\n",
    "    print(\"Subject5=\",m5)\n",
    "    sum=float(m1)+float(m2)+float(m3)+float(m4)+float(m5)\n",
    "    percent=sum*100/500\n",
    "    print(\"Total :\",sum)\n",
    "    print(\"Percentage :\",percent)"
   ]
  },
  {
   "cell_type": "code",
   "execution_count": 103,
   "metadata": {},
   "outputs": [
    {
     "name": "stdout",
     "output_type": "stream",
     "text": [
      "Enter the marks :23 45 34 23 23\n",
      "23 45 34 23 23\n",
      "Subject1= 23\n",
      "Subject2= 45\n",
      "Subject3= 34\n",
      "Subject4= 23\n",
      "Subject5= 23\n",
      "Total : 148.0\n",
      "Percentage : 29.6\n"
     ]
    }
   ],
   "source": [
    "percentage()"
   ]
  },
  {
   "cell_type": "code",
   "execution_count": 112,
   "metadata": {},
   "outputs": [],
   "source": [
    "def triangle():\n",
    "    h1=int(input(\"Enter the Hight1: \"))\n",
    "    h2=int(input(\"Enter the Hight2: \"))\n",
    "    b1=int(input(\"Enter the Breadth1: \"))\n",
    "    print(\"Height=\",h1)\n",
    "    print(\"Breadth=\",b1)\n",
    "    print(\"Area formula: (Height*Breadth)/2\")\n",
    "    area=(float(h1)*float(b1))/2\n",
    "    print(\"Area of the triangle is: \",area)\n",
    "    print(\"Height=\",h1)\n",
    "    print(\"Height2\",h2)\n",
    "    print(\"Breadth=\",b1)\n",
    "    print(\"Perimeter formula :Height1+height2+breadth\")\n",
    "    perimeter=h1+h2+b1\n",
    "    print(\"Perimeter of the triangle is:\",perimeter)\n",
    "    "
   ]
  },
  {
   "cell_type": "code",
   "execution_count": 113,
   "metadata": {},
   "outputs": [
    {
     "name": "stdout",
     "output_type": "stream",
     "text": [
      "Enter the Hight1: 12\n",
      "Enter the Hight2: 23\n",
      "Enter the Breadth1: 45\n",
      "Height= 12\n",
      "Breadth= 45\n",
      "Area formula: (Height*Breadth)/2\n",
      "Area of the triangle is:  270.0\n",
      "Height= 12\n",
      "Height2 23\n",
      "Breadth= 45\n",
      "Perimeter formula :Height1+height2+breadth\n",
      "Perimeter of the triangle is: 80\n"
     ]
    }
   ],
   "source": [
    "triangle()"
   ]
  },
  {
   "cell_type": "code",
   "execution_count": null,
   "metadata": {},
   "outputs": [],
   "source": []
  }
 ],
 "metadata": {
  "kernelspec": {
   "display_name": "Python 3",
   "language": "python",
   "name": "python3"
  },
  "language_info": {
   "codemirror_mode": {
    "name": "ipython",
    "version": 3
   },
   "file_extension": ".py",
   "mimetype": "text/x-python",
   "name": "python",
   "nbconvert_exporter": "python",
   "pygments_lexer": "ipython3",
   "version": "3.7.4"
  }
 },
 "nbformat": 4,
 "nbformat_minor": 2
}
